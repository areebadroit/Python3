{
 "cells": [
  {
   "cell_type": "code",
   "execution_count": 1,
   "metadata": {},
   "outputs": [],
   "source": [
    "from IPython.display import clear_output\n",
    "import sys "
   ]
  },
  {
   "cell_type": "code",
   "execution_count": 2,
   "metadata": {},
   "outputs": [],
   "source": [
    "p = 0\n",
    "p1=0\n",
    "p2=0\n",
    "player1=''\n",
    "player2=''\n",
    "board=['#','X','O','X','O','X','O','X','O','X']\n",
    "for i in range (1,10):\n",
    "    board[i]=' '\n",
    "    \n",
    "def display_board():\n",
    "    print(board[7]+'|'+board[8]+'|'+board[9])\n",
    "    print(board[4]+'|'+board[5]+'|'+board[6])\n",
    "    print(board[1]+'|'+board[2]+'|'+board[3])"
   ]
  },
  {
   "cell_type": "code",
   "execution_count": 3,
   "metadata": {},
   "outputs": [
    {
     "name": "stdout",
     "output_type": "stream",
     "text": [
      " | | \n",
      " | | \n",
      " | | \n"
     ]
    }
   ],
   "source": [
    "display_board()"
   ]
  },
  {
   "cell_type": "code",
   "execution_count": 4,
   "metadata": {},
   "outputs": [],
   "source": [
    "def player_input():\n",
    "    global player1\n",
    "    global player2\n",
    "    marker=''\n",
    "    \n",
    "    #keep asking player 1 to choose X or O\n",
    "    \n",
    "    while marker !='X' and marker !='O':\n",
    "        marker = input('Player 1, choose X or O: ').upper()\n",
    "        \n",
    "    #Assign player 2, the opposite marker\n",
    "    player1 = marker\n",
    "    \n",
    "    if player1=='X':\n",
    "        player2='O'\n",
    "    else:\n",
    "        player2='X'\n",
    "    return(player1,player2)"
   ]
  },
  {
   "cell_type": "code",
   "execution_count": 5,
   "metadata": {},
   "outputs": [
    {
     "name": "stdout",
     "output_type": "stream",
     "text": [
      "Player 1, choose X or O: \n",
      "Player 1, choose X or O: x\n"
     ]
    },
    {
     "data": {
      "text/plain": [
       "('X', 'O')"
      ]
     },
     "execution_count": 5,
     "metadata": {},
     "output_type": "execute_result"
    }
   ],
   "source": [
    "player_input()"
   ]
  },
  {
   "cell_type": "code",
   "execution_count": 6,
   "metadata": {},
   "outputs": [],
   "source": [
    "def tie():\n",
    "    global p\n",
    "    for i in range (1,10):\n",
    "        if board[i]==' ':\n",
    "            p = p+1\n",
    "        else:\n",
    "            pass"
   ]
  },
  {
   "cell_type": "code",
   "execution_count": 7,
   "metadata": {},
   "outputs": [],
   "source": [
    "def check():\n",
    "    global p1,p2,player1,player2\n",
    "    if board[1]==board[2]==board[3]==player1:\n",
    "        p1='w'\n",
    "    elif board[1]==board[2]==board[3]==player2:\n",
    "        p2='w'\n",
    "    elif board[4]==board[5]==board[6]==player1:\n",
    "        p1='w' \n",
    "    elif board[4]==board[5]==board[6]==player2:\n",
    "        p2='w' \n",
    "    elif board[7]==board[8]==board[9]==player1:\n",
    "        p1='w' \n",
    "    elif board[7]==board[8]==board[9]==player2:\n",
    "        p2='w' \n",
    "    elif board[1]==board[4]==board[7]==player1:\n",
    "        p1='w' \n",
    "    elif board[1]==board[4]==board[7]==player2:\n",
    "        p2='w'\n",
    "    elif board[2]==board[5]==board[8]==player1:\n",
    "        p1='w'\n",
    "    elif board[2]==board[5]==board[8]==player2:\n",
    "        p2='w'\n",
    "    elif board[3]==board[6]==board[9]==player1:\n",
    "        p1='w' \n",
    "    elif board[3]==board[6]==board[9]==player2:\n",
    "        p2='w'\n",
    "    elif board[1]==board[5]==board[9]==player1:\n",
    "        p1='w'\n",
    "        print('Player 1 Wins')\n",
    "    elif board[1]==board[5]==board[9]==player2:\n",
    "        p2='w'\n",
    "    elif board[7]==board[5]==board[3]==player1:\n",
    "        p1='w'\n",
    "    elif board[7]==board[5]==board[3]==player2:\n",
    "        p2='w'\n",
    "    else:\n",
    "        pass"
   ]
  },
  {
   "cell_type": "code",
   "execution_count": 11,
   "metadata": {},
   "outputs": [],
   "source": [
    "def final():  \n",
    "    global p,p1,p2,player1,player2\n",
    "    while p==0:\n",
    "        while p1!='w' or p2!='w':\n",
    "                z=int(input(\"player1's Turn Enter position \"))\n",
    "                board[z]=player1\n",
    "                check()\n",
    "                tie()\n",
    "                display_board()\n",
    "                if(p1=='w'):\n",
    "                    sys.exit('player 1 wins')\n",
    "                y=int(input(\"player2's Turn Enter position \"))\n",
    "                board[y]=player2\n",
    "                check()\n",
    "                tie()\n",
    "                display_board()\n",
    "                if(p2=='w'):\n",
    "                    sys.exit('player 2 wins')\n",
    "        \n",
    "        "
   ]
  },
  {
   "cell_type": "code",
   "execution_count": 12,
   "metadata": {},
   "outputs": [
    {
     "name": "stdout",
     "output_type": "stream",
     "text": [
      "player1's Turn Enter position 1\n",
      " | | \n",
      " | | \n",
      "X| | \n",
      "player2's Turn Enter position 6\n",
      " | | \n",
      " | |O\n",
      "X| | \n",
      "player1's Turn Enter position 4\n",
      " | | \n",
      "X| |O\n",
      "X| | \n",
      "player2's Turn Enter position 2\n",
      " | | \n",
      "X| |O\n",
      "X|O| \n",
      "player1's Turn Enter position 8\n",
      " |X| \n",
      "X| |O\n",
      "X|O| \n",
      "player2's Turn Enter position 5\n",
      " |X| \n",
      "X|O|O\n",
      "X|O| \n",
      "player1's Turn Enter position 3\n",
      " |X| \n",
      "X|O|O\n",
      "X|O|X\n",
      "player2's Turn Enter position 9\n",
      " |X|O\n",
      "X|O|O\n",
      "X|O|X\n",
      "player1's Turn Enter position 7\n",
      "X|X|O\n",
      "X|O|O\n",
      "X|O|X\n"
     ]
    },
    {
     "ename": "SystemExit",
     "evalue": "player 1 wins",
     "output_type": "error",
     "traceback": [
      "An exception has occurred, use %tb to see the full traceback.\n",
      "\u001b[1;31mSystemExit\u001b[0m\u001b[1;31m:\u001b[0m player 1 wins\n"
     ]
    },
    {
     "name": "stderr",
     "output_type": "stream",
     "text": [
      "C:\\Users\\areeb\\Anaconda3\\lib\\site-packages\\IPython\\core\\interactiveshell.py:3275: UserWarning: To exit: use 'exit', 'quit', or Ctrl-D.\n",
      "  warn(\"To exit: use 'exit', 'quit', or Ctrl-D.\", stacklevel=1)\n"
     ]
    }
   ],
   "source": [
    "final()"
   ]
  },
  {
   "cell_type": "code",
   "execution_count": 10,
   "metadata": {},
   "outputs": [
    {
     "name": "stdout",
     "output_type": "stream",
     "text": [
      "X\n"
     ]
    }
   ],
   "source": [
    "global player1\n",
    "print(player1)"
   ]
  },
  {
   "cell_type": "code",
   "execution_count": null,
   "metadata": {},
   "outputs": [],
   "source": [
    "global p1\n",
    "print(p1)"
   ]
  },
  {
   "cell_type": "code",
   "execution_count": null,
   "metadata": {},
   "outputs": [],
   "source": []
  }
 ],
 "metadata": {
  "kernelspec": {
   "display_name": "Python 3",
   "language": "python",
   "name": "python3"
  },
  "language_info": {
   "codemirror_mode": {
    "name": "ipython",
    "version": 3
   },
   "file_extension": ".py",
   "mimetype": "text/x-python",
   "name": "python",
   "nbconvert_exporter": "python",
   "pygments_lexer": "ipython3",
   "version": "3.7.1"
  }
 },
 "nbformat": 4,
 "nbformat_minor": 2
}
